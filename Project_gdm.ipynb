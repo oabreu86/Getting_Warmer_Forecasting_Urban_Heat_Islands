{
 "cells": [
  {
   "cell_type": "code",
   "execution_count": 37,
   "metadata": {},
   "outputs": [],
   "source": [
    "import os\n",
    "import rasterio\n",
    "import numpy as np\n",
    "import pandas as pd\n",
    "import geopandas as gpd\n",
    "import pyproj\n",
    "from shapely.geometry import Point\n",
    "from pathlib import Path\n",
    "import re\n",
    "from rasterio.mask import mask\n",
    "from shapely.geometry import box\n",
    "from fiona.crs import from_epsg\n",
    "import json\n",
    "#import rioxarray as xr"
   ]
  },
  {
   "cell_type": "code",
   "execution_count": 9,
   "metadata": {},
   "outputs": [
    {
     "name": "stdout",
     "output_type": "stream",
     "text": [
      "LC08_L2SP_022031_20210514_20210525_02_T1_ANG.txt\r\n",
      "LC08_L2SP_022031_20210514_20210525_02_T1_MTL.txt\r\n",
      "LC08_L2SP_022031_20210514_20210525_02_T1_MTL.xml\r\n",
      "LC08_L2SP_022031_20210514_20210525_02_T1_SR_B1.TIF\r\n",
      "LC08_L2SP_022031_20210514_20210525_02_T1_SR_B2.TIF\r\n",
      "LC08_L2SP_022031_20210514_20210525_02_T1_SR_B3.TIF\r\n",
      "LC08_L2SP_022031_20210514_20210525_02_T1_SR_B4.TIF\r\n",
      "LC08_L2SP_022031_20210514_20210525_02_T1_SR_B5.TIF\r\n",
      "LC08_L2SP_022031_20210514_20210525_02_T1_SR_B6.TIF\r\n",
      "LC08_L2SP_022031_20210514_20210525_02_T1_SR_B7.TIF\r\n",
      "LC08_L2SP_022031_20210514_20210525_02_T1_ST_B10.TIF\r\n"
     ]
    }
   ],
   "source": [
    "ls tif_data_2021/LC08_L2SP_022031_20210514_20210525_02_T1"
   ]
  },
  {
   "cell_type": "code",
   "execution_count": 11,
   "metadata": {},
   "outputs": [],
   "source": [
    "#File path\n",
    "SHARED_DATA_FOLDER = Path('tif_data_2021')\n",
    "#construct SCENE NAME\n",
    "# path_row = []  \n",
    "# year = []\n",
    "# month = []\n",
    "# day = []\n",
    "SCENE = 'LC08_L2SP_022031_20210514_20210525_02_T1'\n",
    "#check if scene_path is a file"
   ]
  },
  {
   "cell_type": "code",
   "execution_count": 12,
   "metadata": {},
   "outputs": [],
   "source": [
    "scene_path = SHARED_DATA_FOLDER/SCENE\n",
    "b1_path =scene_path/\"{}_SR_B2.TIF\".format(SCENE)\n",
    "b2_path =scene_path/\"{}_SR_B2.TIF\".format(SCENE)\n",
    "b3_path =scene_path/\"{}_SR_B3.TIF\".format(SCENE)\n",
    "b4_path =scene_path/\"{}_SR_B4.TIF\".format(SCENE)\n",
    "b5_path =scene_path/\"{}_SR_B5.TIF\".format(SCENE)\n",
    "b6_path =scene_path/\"{}_SR_B6.TIF\".format(SCENE)\n",
    "b7_path =scene_path/\"{}_SR_B7.TIF\".format(SCENE)\n",
    "b10_path = scene_path/\"{}_ST_B10.TIF\".format(SCENE)"
   ]
  },
  {
   "cell_type": "code",
   "execution_count": 13,
   "metadata": {},
   "outputs": [],
   "source": [
    "b1 = rasterio.open(b1_path).read(1)\n",
    "# b2 = rasterio.open(b2_path).read(1)\n",
    "# b3 = rasterio.open(b3_path).read(1)\n",
    "# b4 = rasterio.open(b4_path).read(1)\n",
    "# b5 = rasterio.open(b5_path).read(1)\n",
    "# b6 = rasterio.open(b6_path).read(1)\n",
    "# b7 = rasterio.open(b7_path).read(1)"
   ]
  },
  {
   "cell_type": "code",
   "execution_count": 14,
   "metadata": {},
   "outputs": [
    {
     "data": {
      "text/plain": [
       "array([[0, 0, 0, ..., 0, 0, 0],\n",
       "       [0, 0, 0, ..., 0, 0, 0],\n",
       "       [0, 0, 0, ..., 0, 0, 0],\n",
       "       ...,\n",
       "       [0, 0, 0, ..., 0, 0, 0],\n",
       "       [0, 0, 0, ..., 0, 0, 0],\n",
       "       [0, 0, 0, ..., 0, 0, 0]], dtype=uint16)"
      ]
     },
     "execution_count": 14,
     "metadata": {},
     "output_type": "execute_result"
    }
   ],
   "source": []
  },
  {
   "cell_type": "code",
   "execution_count": 34,
   "metadata": {},
   "outputs": [
    {
     "data": {
      "text/plain": [
       "CRS.from_epsg(32616)"
      ]
     },
     "execution_count": 34,
     "metadata": {},
     "output_type": "execute_result"
    }
   ],
   "source": [
    "data = rasterio.open(b1_path)\n",
    "c = data.crs\n",
    "c"
   ]
  },
  {
   "cell_type": "code",
   "execution_count": 17,
   "metadata": {},
   "outputs": [],
   "source": [
    "#Get CHI BB:\n",
    "def getFeatures(gdf):\n",
    "    \"\"\"Function to parse features from GeoDataFrame in such a manner that rasterio wants them\"\"\"\n",
    "    import json\n",
    "    return [json.loads(gdf.to_json())['features'][0]['geometry']]"
   ]
  },
  {
   "cell_type": "code",
   "execution_count": 22,
   "metadata": {},
   "outputs": [
    {
     "data": {
      "text/html": [
       "<div>\n",
       "<style scoped>\n",
       "    .dataframe tbody tr th:only-of-type {\n",
       "        vertical-align: middle;\n",
       "    }\n",
       "\n",
       "    .dataframe tbody tr th {\n",
       "        vertical-align: top;\n",
       "    }\n",
       "\n",
       "    .dataframe thead th {\n",
       "        text-align: right;\n",
       "    }\n",
       "</style>\n",
       "<table border=\"1\" class=\"dataframe\">\n",
       "  <thead>\n",
       "    <tr style=\"text-align: right;\">\n",
       "      <th></th>\n",
       "      <th>id</th>\n",
       "      <th>geometry</th>\n",
       "    </tr>\n",
       "  </thead>\n",
       "  <tbody>\n",
       "    <tr>\n",
       "      <th>0</th>\n",
       "      <td>None</td>\n",
       "      <td>POLYGON ((421529.030 4645627.453, 421709.344 4...</td>\n",
       "    </tr>\n",
       "  </tbody>\n",
       "</table>\n",
       "</div>"
      ],
      "text/plain": [
       "     id                                           geometry\n",
       "0  None  POLYGON ((421529.030 4645627.453, 421709.344 4..."
      ]
     },
     "execution_count": 22,
     "metadata": {},
     "output_type": "execute_result"
    }
   ],
   "source": [
    "chi_b = gpd.read_file(\"chi_b\").to_crs(raster.crs)\n",
    "chi_b"
   ]
  },
  {
   "cell_type": "code",
   "execution_count": 43,
   "metadata": {},
   "outputs": [],
   "source": [
    "def clip_raster(raster, vector_poly):\n",
    "    '''\n",
    "    Clip raster polygon with the vecotr polygon boundary\n",
    "    Input: \n",
    "        raster - rasterio object (i.e. read from rasterio.open)\n",
    "        vector_poly - geopandas dataframe\n",
    "    Output:\n",
    "        raster object that is clipped\n",
    "    '''\n",
    "    vector_poly_good_crs = vector_poly.to_crs(raster.crs)\n",
    "    vector_as_json = [json.loads(vector_poly.to_json())['features'][0]['geometry']]\n",
    "    \n",
    "    out_img, out_transform = mask(dataset=raster, \n",
    "                                  shapes=vector_as_json, \n",
    "                                  crop=True)\n",
    "    return out_img\n",
    "    \n",
    "    "
   ]
  },
  {
   "cell_type": "code",
   "execution_count": 44,
   "metadata": {},
   "outputs": [],
   "source": [
    "new_raster = clip_raster(data, chi_b)"
   ]
  },
  {
   "cell_type": "code",
   "execution_count": 45,
   "metadata": {},
   "outputs": [
    {
     "data": {
      "text/plain": [
       "array([[[    0,     0,     0, ...,     0,     0,     0],\n",
       "        [    0,     0,     0, ...,     0,     0,     0],\n",
       "        [    0,     0,     0, ...,     0,     0,     0],\n",
       "        ...,\n",
       "        [    0,     0,     0, ..., 10508, 10118, 10047],\n",
       "        [    0,     0,     0, ..., 10394, 10340, 10008],\n",
       "        [    0,     0,     0, ..., 10294, 10444, 10315]]], dtype=uint16)"
      ]
     },
     "execution_count": 45,
     "metadata": {},
     "output_type": "execute_result"
    }
   ],
   "source": [
    "new_raster"
   ]
  },
  {
   "cell_type": "code",
   "execution_count": 24,
   "metadata": {},
   "outputs": [
    {
     "data": {
      "text/plain": [
       "[{'type': 'Polygon',\n",
       "  'coordinates': [[[421529.0299251836, 4645627.452825234],\n",
       "    [421709.34371174604, 4653024.683823592],\n",
       "    [445652.14019487315, 4653593.279869158],\n",
       "    [449597.58601560234, 4640484.426552334],\n",
       "    [456798.8229183247, 4623790.817900849],\n",
       "    [457114.65979003883, 4610445.840924643],\n",
       "    [434622.36365102226, 4610747.52882748],\n",
       "    [432215.6041096891, 4639043.377106867],\n",
       "    [421529.0299251836, 4645627.452825234]]]}]"
      ]
     },
     "execution_count": 24,
     "metadata": {},
     "output_type": "execute_result"
    }
   ],
   "source": [
    "chi_b_json = getFeatures(chi_b)\n",
    "chi_b_json"
   ]
  },
  {
   "cell_type": "code",
   "execution_count": 26,
   "metadata": {},
   "outputs": [],
   "source": [
    "out_img, out_transform = mask(dataset=data, shapes=chi_b_json, crop=True)"
   ]
  },
  {
   "cell_type": "code",
   "execution_count": 29,
   "metadata": {},
   "outputs": [
    {
     "data": {
      "text/plain": [
       "(1, 1439, 1187)"
      ]
     },
     "execution_count": 29,
     "metadata": {},
     "output_type": "execute_result"
    }
   ],
   "source": [
    "out_img.shape"
   ]
  },
  {
   "cell_type": "code",
   "execution_count": 11,
   "metadata": {},
   "outputs": [
    {
     "ename": "AttributeError",
     "evalue": "'DatasetReader' object has no attribute 'rio'",
     "output_type": "error",
     "traceback": [
      "\u001b[0;31m---------------------------------------------------------------------------\u001b[0m",
      "\u001b[0;31mAttributeError\u001b[0m                            Traceback (most recent call last)",
      "\u001b[0;32m<ipython-input-11-b872b3c9328f>\u001b[0m in \u001b[0;36m<module>\u001b[0;34m\u001b[0m\n\u001b[0;32m----> 1\u001b[0;31m \u001b[0mclipped_xarray\u001b[0m \u001b[0;34m=\u001b[0m \u001b[0mraster\u001b[0m\u001b[0;34m.\u001b[0m\u001b[0mrio\u001b[0m\u001b[0;34m.\u001b[0m\u001b[0mclip\u001b[0m\u001b[0;34m(\u001b[0m\u001b[0mchi_b\u001b[0m\u001b[0;34m)\u001b[0m\u001b[0;34m\u001b[0m\u001b[0;34m\u001b[0m\u001b[0m\n\u001b[0m",
      "\u001b[0;31mAttributeError\u001b[0m: 'DatasetReader' object has no attribute 'rio'"
     ]
    }
   ],
   "source": [
    "clipped_xarray = raster.rio.clip(chi_b)"
   ]
  },
  {
   "cell_type": "code",
   "execution_count": 20,
   "metadata": {},
   "outputs": [],
   "source": [
    "raster = rasterio.open(b1_path)\n",
    "array_dtype = np.dtype('uint16')\n",
    "i,j = np.indices(b1.shape, array_dtype)\n",
    "longitude, latitude = raster.transform * (j, i)"
   ]
  },
  {
   "cell_type": "code",
   "execution_count": 5,
   "metadata": {},
   "outputs": [],
   "source": [
    "pattern = '^(?:[^_]+_){3}([^_ ]+)'\n",
    "period_str= re.findall(pattern, SCENE)[0]"
   ]
  },
  {
   "cell_type": "code",
   "execution_count": 8,
   "metadata": {
    "scrolled": true
   },
   "outputs": [
    {
     "name": "stderr",
     "output_type": "stream",
     "text": [
      "<ipython-input-8-45c57a3d1d06>:1: RuntimeWarning: divide by zero encountered in true_divide\n",
      "  ndsi =np.where((b3+b6)==0, 0, (b3-b6)/(b3+b6))\n",
      "<ipython-input-8-45c57a3d1d06>:1: RuntimeWarning: invalid value encountered in true_divide\n",
      "  ndsi =np.where((b3+b6)==0, 0, (b3-b6)/(b3+b6))\n",
      "<ipython-input-8-45c57a3d1d06>:4: RuntimeWarning: divide by zero encountered in true_divide\n",
      "  ndvi = np.where((b4+b5)==0, 0, (b5-b4)/(b5+b4))\n",
      "<ipython-input-8-45c57a3d1d06>:4: RuntimeWarning: invalid value encountered in true_divide\n",
      "  ndvi = np.where((b4+b5)==0, 0, (b5-b4)/(b5+b4))\n",
      "<ipython-input-8-45c57a3d1d06>:5: RuntimeWarning: divide by zero encountered in true_divide\n",
      "  ndbi = np.where((b6+b5)==0, 0, (b6-b5)/(b6+b5))\n",
      "<ipython-input-8-45c57a3d1d06>:5: RuntimeWarning: invalid value encountered in true_divide\n",
      "  ndbi = np.where((b6+b5)==0, 0, (b6-b5)/(b6+b5))\n",
      "<ipython-input-8-45c57a3d1d06>:7: RuntimeWarning: divide by zero encountered in true_divide\n",
      "  gemi = eta*(1-0.25*eta) - ((b4-0.125)/(1-b4))\n"
     ]
    }
   ],
   "source": [
    "ndsi =np.where((b3+b6)==0, 0, (b3-b6)/(b3+b6))\n",
    "albedo = ((0.356*b1)+(0.1310*b2)+(0.373*b3)+(0.085*b4)+(0.072*b5)-0.0018)/1.016\n",
    "awei = 4*(b3-b6)-(0.25*b5 + 2.75*b6)\n",
    "ndvi = np.where((b4+b5)==0, 0, (b5-b4)/(b5+b4))\n",
    "ndbi = np.where((b6+b5)==0, 0, (b6-b5)/(b6+b5))\n",
    "eta = (2*(b5**2-b4**2) + 1.5*b5 + 0.5*b4) / (b5+b4+0.5)\n",
    "gemi = eta*(1-0.25*eta) - ((b4-0.125)/(1-b4))"
   ]
  },
  {
   "cell_type": "code",
   "execution_count": 9,
   "metadata": {
    "scrolled": true
   },
   "outputs": [],
   "source": [
    "columns = ['ndsi', 'albedo', 'awei', 'ndbi', 'ndvi', 'gemi', 'latitude', 'longitude']\n",
    "data = {}\n",
    "features = [ndsi, albedo, awei, ndbi, ndvi, gemi, latitude, longitude]\n",
    "for i, feature in enumerate(features):\n",
    "    key = columns[i]\n",
    "    data[key] = np.ndarray.flatten(feature)"
   ]
  },
  {
   "cell_type": "code",
   "execution_count": 11,
   "metadata": {},
   "outputs": [],
   "source": [
    "landsat = pd.DataFrame(data)\n",
    "landsat['period'] = period_str\n",
    "landsat['period'] = pd.to_datetime(landsat['period'],yearfirst=True, format ='%Y%m%d')"
   ]
  },
  {
   "cell_type": "code",
   "execution_count": 19,
   "metadata": {},
   "outputs": [
    {
     "data": {
      "text/plain": [
       "(61008121, 9)"
      ]
     },
     "execution_count": 19,
     "metadata": {},
     "output_type": "execute_result"
    }
   ],
   "source": [
    "landsat.shape"
   ]
  },
  {
   "cell_type": "code",
   "execution_count": 14,
   "metadata": {},
   "outputs": [
    {
     "data": {
      "text/html": [
       "<div>\n",
       "<style scoped>\n",
       "    .dataframe tbody tr th:only-of-type {\n",
       "        vertical-align: middle;\n",
       "    }\n",
       "\n",
       "    .dataframe tbody tr th {\n",
       "        vertical-align: top;\n",
       "    }\n",
       "\n",
       "    .dataframe thead th {\n",
       "        text-align: right;\n",
       "    }\n",
       "</style>\n",
       "<table border=\"1\" class=\"dataframe\">\n",
       "  <thead>\n",
       "    <tr style=\"text-align: right;\">\n",
       "      <th></th>\n",
       "      <th>ndsi</th>\n",
       "      <th>albedo</th>\n",
       "      <th>awei</th>\n",
       "      <th>ndbi</th>\n",
       "      <th>ndvi</th>\n",
       "      <th>gemi</th>\n",
       "      <th>latitude</th>\n",
       "      <th>longitude</th>\n",
       "    </tr>\n",
       "  </thead>\n",
       "  <tbody>\n",
       "    <tr>\n",
       "      <th>count</th>\n",
       "      <td>6.100812e+07</td>\n",
       "      <td>6.100812e+07</td>\n",
       "      <td>6.100812e+07</td>\n",
       "      <td>6.100812e+07</td>\n",
       "      <td>6.100812e+07</td>\n",
       "      <td>6.100812e+07</td>\n",
       "      <td>6.100812e+07</td>\n",
       "      <td>6.100812e+07</td>\n",
       "    </tr>\n",
       "    <tr>\n",
       "      <th>mean</th>\n",
       "      <td>1.262766e+00</td>\n",
       "      <td>1.909222e+04</td>\n",
       "      <td>-4.283094e+03</td>\n",
       "      <td>1.057271e+00</td>\n",
       "      <td>2.950885e+00</td>\n",
       "      <td>-inf</td>\n",
       "      <td>4.622565e+06</td>\n",
       "      <td>5.158350e+05</td>\n",
       "    </tr>\n",
       "    <tr>\n",
       "      <th>std</th>\n",
       "      <td>6.503644e+01</td>\n",
       "      <td>1.937312e+04</td>\n",
       "      <td>2.160685e+04</td>\n",
       "      <td>5.894265e+01</td>\n",
       "      <td>1.331509e+02</td>\n",
       "      <td>NaN</td>\n",
       "      <td>6.816486e+04</td>\n",
       "      <td>6.712563e+04</td>\n",
       "    </tr>\n",
       "    <tr>\n",
       "      <th>min</th>\n",
       "      <td>0.000000e+00</td>\n",
       "      <td>-1.771654e-03</td>\n",
       "      <td>-1.963620e+05</td>\n",
       "      <td>0.000000e+00</td>\n",
       "      <td>0.000000e+00</td>\n",
       "      <td>-inf</td>\n",
       "      <td>4.504515e+06</td>\n",
       "      <td>3.995850e+05</td>\n",
       "    </tr>\n",
       "    <tr>\n",
       "      <th>25%</th>\n",
       "      <td>0.000000e+00</td>\n",
       "      <td>-1.771654e-03</td>\n",
       "      <td>-2.069775e+04</td>\n",
       "      <td>0.000000e+00</td>\n",
       "      <td>0.000000e+00</td>\n",
       "      <td>-2.983274e+00</td>\n",
       "      <td>4.563525e+06</td>\n",
       "      <td>4.576950e+05</td>\n",
       "    </tr>\n",
       "    <tr>\n",
       "      <th>50%</th>\n",
       "      <td>3.903613e-01</td>\n",
       "      <td>9.336494e+03</td>\n",
       "      <td>0.000000e+00</td>\n",
       "      <td>5.346356e-01</td>\n",
       "      <td>1.186387e-01</td>\n",
       "      <td>1.250000e-01</td>\n",
       "      <td>4.622565e+06</td>\n",
       "      <td>5.158350e+05</td>\n",
       "    </tr>\n",
       "    <tr>\n",
       "      <th>75%</th>\n",
       "      <td>6.027409e-01</td>\n",
       "      <td>4.065191e+04</td>\n",
       "      <td>3.569750e+03</td>\n",
       "      <td>8.892068e-01</td>\n",
       "      <td>2.368377e+00</td>\n",
       "      <td>1.678326e-01</td>\n",
       "      <td>4.681605e+06</td>\n",
       "      <td>5.739750e+05</td>\n",
       "    </tr>\n",
       "    <tr>\n",
       "      <th>max</th>\n",
       "      <td>6.147500e+04</td>\n",
       "      <td>6.551842e+04</td>\n",
       "      <td>5.127300e+04</td>\n",
       "      <td>6.306100e+04</td>\n",
       "      <td>6.552500e+04</td>\n",
       "      <td>1.125000e+00</td>\n",
       "      <td>4.740615e+06</td>\n",
       "      <td>6.320850e+05</td>\n",
       "    </tr>\n",
       "  </tbody>\n",
       "</table>\n",
       "</div>"
      ],
      "text/plain": [
       "               ndsi        albedo          awei          ndbi          ndvi  \\\n",
       "count  6.100812e+07  6.100812e+07  6.100812e+07  6.100812e+07  6.100812e+07   \n",
       "mean   1.262766e+00  1.909222e+04 -4.283094e+03  1.057271e+00  2.950885e+00   \n",
       "std    6.503644e+01  1.937312e+04  2.160685e+04  5.894265e+01  1.331509e+02   \n",
       "min    0.000000e+00 -1.771654e-03 -1.963620e+05  0.000000e+00  0.000000e+00   \n",
       "25%    0.000000e+00 -1.771654e-03 -2.069775e+04  0.000000e+00  0.000000e+00   \n",
       "50%    3.903613e-01  9.336494e+03  0.000000e+00  5.346356e-01  1.186387e-01   \n",
       "75%    6.027409e-01  4.065191e+04  3.569750e+03  8.892068e-01  2.368377e+00   \n",
       "max    6.147500e+04  6.551842e+04  5.127300e+04  6.306100e+04  6.552500e+04   \n",
       "\n",
       "               gemi      latitude     longitude  \n",
       "count  6.100812e+07  6.100812e+07  6.100812e+07  \n",
       "mean           -inf  4.622565e+06  5.158350e+05  \n",
       "std             NaN  6.816486e+04  6.712563e+04  \n",
       "min            -inf  4.504515e+06  3.995850e+05  \n",
       "25%   -2.983274e+00  4.563525e+06  4.576950e+05  \n",
       "50%    1.250000e-01  4.622565e+06  5.158350e+05  \n",
       "75%    1.678326e-01  4.681605e+06  5.739750e+05  \n",
       "max    1.125000e+00  4.740615e+06  6.320850e+05  "
      ]
     },
     "execution_count": 14,
     "metadata": {},
     "output_type": "execute_result"
    }
   ],
   "source": [
    "landsat.describe()"
   ]
  },
  {
   "cell_type": "code",
   "execution_count": 20,
   "metadata": {},
   "outputs": [
    {
     "data": {
      "text/html": [
       "<div>\n",
       "<style scoped>\n",
       "    .dataframe tbody tr th:only-of-type {\n",
       "        vertical-align: middle;\n",
       "    }\n",
       "\n",
       "    .dataframe tbody tr th {\n",
       "        vertical-align: top;\n",
       "    }\n",
       "\n",
       "    .dataframe thead th {\n",
       "        text-align: right;\n",
       "    }\n",
       "</style>\n",
       "<table border=\"1\" class=\"dataframe\">\n",
       "  <thead>\n",
       "    <tr style=\"text-align: right;\">\n",
       "      <th></th>\n",
       "      <th>ndsi</th>\n",
       "      <th>albedo</th>\n",
       "      <th>awei</th>\n",
       "      <th>ndbi</th>\n",
       "      <th>ndvi</th>\n",
       "      <th>gemi</th>\n",
       "      <th>latitude</th>\n",
       "      <th>longitude</th>\n",
       "      <th>period</th>\n",
       "    </tr>\n",
       "  </thead>\n",
       "  <tbody>\n",
       "    <tr>\n",
       "      <th>0</th>\n",
       "      <td>0.0</td>\n",
       "      <td>-0.001772</td>\n",
       "      <td>0.0</td>\n",
       "      <td>0.0</td>\n",
       "      <td>0.0</td>\n",
       "      <td>0.125</td>\n",
       "      <td>4740615.0</td>\n",
       "      <td>399585.0</td>\n",
       "      <td>2014-01-03</td>\n",
       "    </tr>\n",
       "    <tr>\n",
       "      <th>1</th>\n",
       "      <td>0.0</td>\n",
       "      <td>-0.001772</td>\n",
       "      <td>0.0</td>\n",
       "      <td>0.0</td>\n",
       "      <td>0.0</td>\n",
       "      <td>0.125</td>\n",
       "      <td>4740615.0</td>\n",
       "      <td>399615.0</td>\n",
       "      <td>2014-01-03</td>\n",
       "    </tr>\n",
       "    <tr>\n",
       "      <th>2</th>\n",
       "      <td>0.0</td>\n",
       "      <td>-0.001772</td>\n",
       "      <td>0.0</td>\n",
       "      <td>0.0</td>\n",
       "      <td>0.0</td>\n",
       "      <td>0.125</td>\n",
       "      <td>4740615.0</td>\n",
       "      <td>399645.0</td>\n",
       "      <td>2014-01-03</td>\n",
       "    </tr>\n",
       "    <tr>\n",
       "      <th>3</th>\n",
       "      <td>0.0</td>\n",
       "      <td>-0.001772</td>\n",
       "      <td>0.0</td>\n",
       "      <td>0.0</td>\n",
       "      <td>0.0</td>\n",
       "      <td>0.125</td>\n",
       "      <td>4740615.0</td>\n",
       "      <td>399675.0</td>\n",
       "      <td>2014-01-03</td>\n",
       "    </tr>\n",
       "    <tr>\n",
       "      <th>4</th>\n",
       "      <td>0.0</td>\n",
       "      <td>-0.001772</td>\n",
       "      <td>0.0</td>\n",
       "      <td>0.0</td>\n",
       "      <td>0.0</td>\n",
       "      <td>0.125</td>\n",
       "      <td>4740615.0</td>\n",
       "      <td>399705.0</td>\n",
       "      <td>2014-01-03</td>\n",
       "    </tr>\n",
       "    <tr>\n",
       "      <th>...</th>\n",
       "      <td>...</td>\n",
       "      <td>...</td>\n",
       "      <td>...</td>\n",
       "      <td>...</td>\n",
       "      <td>...</td>\n",
       "      <td>...</td>\n",
       "      <td>...</td>\n",
       "      <td>...</td>\n",
       "      <td>...</td>\n",
       "    </tr>\n",
       "    <tr>\n",
       "      <th>61008116</th>\n",
       "      <td>0.0</td>\n",
       "      <td>-0.001772</td>\n",
       "      <td>0.0</td>\n",
       "      <td>0.0</td>\n",
       "      <td>0.0</td>\n",
       "      <td>0.125</td>\n",
       "      <td>4504515.0</td>\n",
       "      <td>631965.0</td>\n",
       "      <td>2014-01-03</td>\n",
       "    </tr>\n",
       "    <tr>\n",
       "      <th>61008117</th>\n",
       "      <td>0.0</td>\n",
       "      <td>-0.001772</td>\n",
       "      <td>0.0</td>\n",
       "      <td>0.0</td>\n",
       "      <td>0.0</td>\n",
       "      <td>0.125</td>\n",
       "      <td>4504515.0</td>\n",
       "      <td>631995.0</td>\n",
       "      <td>2014-01-03</td>\n",
       "    </tr>\n",
       "    <tr>\n",
       "      <th>61008118</th>\n",
       "      <td>0.0</td>\n",
       "      <td>-0.001772</td>\n",
       "      <td>0.0</td>\n",
       "      <td>0.0</td>\n",
       "      <td>0.0</td>\n",
       "      <td>0.125</td>\n",
       "      <td>4504515.0</td>\n",
       "      <td>632025.0</td>\n",
       "      <td>2014-01-03</td>\n",
       "    </tr>\n",
       "    <tr>\n",
       "      <th>61008119</th>\n",
       "      <td>0.0</td>\n",
       "      <td>-0.001772</td>\n",
       "      <td>0.0</td>\n",
       "      <td>0.0</td>\n",
       "      <td>0.0</td>\n",
       "      <td>0.125</td>\n",
       "      <td>4504515.0</td>\n",
       "      <td>632055.0</td>\n",
       "      <td>2014-01-03</td>\n",
       "    </tr>\n",
       "    <tr>\n",
       "      <th>61008120</th>\n",
       "      <td>0.0</td>\n",
       "      <td>-0.001772</td>\n",
       "      <td>0.0</td>\n",
       "      <td>0.0</td>\n",
       "      <td>0.0</td>\n",
       "      <td>0.125</td>\n",
       "      <td>4504515.0</td>\n",
       "      <td>632085.0</td>\n",
       "      <td>2014-01-03</td>\n",
       "    </tr>\n",
       "  </tbody>\n",
       "</table>\n",
       "<p>61008121 rows × 9 columns</p>\n",
       "</div>"
      ],
      "text/plain": [
       "          ndsi    albedo  awei  ndbi  ndvi   gemi   latitude  longitude  \\\n",
       "0          0.0 -0.001772   0.0   0.0   0.0  0.125  4740615.0   399585.0   \n",
       "1          0.0 -0.001772   0.0   0.0   0.0  0.125  4740615.0   399615.0   \n",
       "2          0.0 -0.001772   0.0   0.0   0.0  0.125  4740615.0   399645.0   \n",
       "3          0.0 -0.001772   0.0   0.0   0.0  0.125  4740615.0   399675.0   \n",
       "4          0.0 -0.001772   0.0   0.0   0.0  0.125  4740615.0   399705.0   \n",
       "...        ...       ...   ...   ...   ...    ...        ...        ...   \n",
       "61008116   0.0 -0.001772   0.0   0.0   0.0  0.125  4504515.0   631965.0   \n",
       "61008117   0.0 -0.001772   0.0   0.0   0.0  0.125  4504515.0   631995.0   \n",
       "61008118   0.0 -0.001772   0.0   0.0   0.0  0.125  4504515.0   632025.0   \n",
       "61008119   0.0 -0.001772   0.0   0.0   0.0  0.125  4504515.0   632055.0   \n",
       "61008120   0.0 -0.001772   0.0   0.0   0.0  0.125  4504515.0   632085.0   \n",
       "\n",
       "             period  \n",
       "0        2014-01-03  \n",
       "1        2014-01-03  \n",
       "2        2014-01-03  \n",
       "3        2014-01-03  \n",
       "4        2014-01-03  \n",
       "...             ...  \n",
       "61008116 2014-01-03  \n",
       "61008117 2014-01-03  \n",
       "61008118 2014-01-03  \n",
       "61008119 2014-01-03  \n",
       "61008120 2014-01-03  \n",
       "\n",
       "[61008121 rows x 9 columns]"
      ]
     },
     "execution_count": 20,
     "metadata": {},
     "output_type": "execute_result"
    }
   ],
   "source": [
    "landsat"
   ]
  },
  {
   "cell_type": "code",
   "execution_count": 21,
   "metadata": {},
   "outputs": [
    {
     "ename": "KeyboardInterrupt",
     "evalue": "",
     "output_type": "error",
     "traceback": [
      "\u001b[0;31m---------------------------------------------------------------------------\u001b[0m",
      "\u001b[0;31mKeyboardInterrupt\u001b[0m                         Traceback (most recent call last)",
      "\u001b[0;32m<ipython-input-21-1c524f6c0bde>\u001b[0m in \u001b[0;36m<module>\u001b[0;34m\u001b[0m\n\u001b[0;32m----> 1\u001b[0;31m \u001b[0mlandsat\u001b[0m\u001b[0;34m.\u001b[0m\u001b[0mto_csv\u001b[0m\u001b[0;34m(\u001b[0m\u001b[0;34m\"sample_df\"\u001b[0m\u001b[0;34m)\u001b[0m\u001b[0;34m\u001b[0m\u001b[0;34m\u001b[0m\u001b[0m\n\u001b[0m",
      "\u001b[0;32m/opt/anaconda3/lib/python3.8/site-packages/pandas/core/generic.py\u001b[0m in \u001b[0;36mto_csv\u001b[0;34m(self, path_or_buf, sep, na_rep, float_format, columns, header, index, index_label, mode, encoding, compression, quoting, quotechar, line_terminator, chunksize, date_format, doublequote, escapechar, decimal, errors)\u001b[0m\n\u001b[1;32m   3168\u001b[0m             \u001b[0mdecimal\u001b[0m\u001b[0;34m=\u001b[0m\u001b[0mdecimal\u001b[0m\u001b[0;34m,\u001b[0m\u001b[0;34m\u001b[0m\u001b[0;34m\u001b[0m\u001b[0m\n\u001b[1;32m   3169\u001b[0m         )\n\u001b[0;32m-> 3170\u001b[0;31m         \u001b[0mformatter\u001b[0m\u001b[0;34m.\u001b[0m\u001b[0msave\u001b[0m\u001b[0;34m(\u001b[0m\u001b[0;34m)\u001b[0m\u001b[0;34m\u001b[0m\u001b[0;34m\u001b[0m\u001b[0m\n\u001b[0m\u001b[1;32m   3171\u001b[0m \u001b[0;34m\u001b[0m\u001b[0m\n\u001b[1;32m   3172\u001b[0m         \u001b[0;32mif\u001b[0m \u001b[0mpath_or_buf\u001b[0m \u001b[0;32mis\u001b[0m \u001b[0;32mNone\u001b[0m\u001b[0;34m:\u001b[0m\u001b[0;34m\u001b[0m\u001b[0;34m\u001b[0m\u001b[0m\n",
      "\u001b[0;32m/opt/anaconda3/lib/python3.8/site-packages/pandas/io/formats/csvs.py\u001b[0m in \u001b[0;36msave\u001b[0;34m(self)\u001b[0m\n\u001b[1;32m    204\u001b[0m             )\n\u001b[1;32m    205\u001b[0m \u001b[0;34m\u001b[0m\u001b[0m\n\u001b[0;32m--> 206\u001b[0;31m             \u001b[0mself\u001b[0m\u001b[0;34m.\u001b[0m\u001b[0m_save\u001b[0m\u001b[0;34m(\u001b[0m\u001b[0;34m)\u001b[0m\u001b[0;34m\u001b[0m\u001b[0;34m\u001b[0m\u001b[0m\n\u001b[0m\u001b[1;32m    207\u001b[0m \u001b[0;34m\u001b[0m\u001b[0m\n\u001b[1;32m    208\u001b[0m         \u001b[0;32mfinally\u001b[0m\u001b[0;34m:\u001b[0m\u001b[0;34m\u001b[0m\u001b[0;34m\u001b[0m\u001b[0m\n",
      "\u001b[0;32m/opt/anaconda3/lib/python3.8/site-packages/pandas/io/formats/csvs.py\u001b[0m in \u001b[0;36m_save\u001b[0;34m(self)\u001b[0m\n\u001b[1;32m    326\u001b[0m                 \u001b[0;32mbreak\u001b[0m\u001b[0;34m\u001b[0m\u001b[0;34m\u001b[0m\u001b[0m\n\u001b[1;32m    327\u001b[0m \u001b[0;34m\u001b[0m\u001b[0m\n\u001b[0;32m--> 328\u001b[0;31m             \u001b[0mself\u001b[0m\u001b[0;34m.\u001b[0m\u001b[0m_save_chunk\u001b[0m\u001b[0;34m(\u001b[0m\u001b[0mstart_i\u001b[0m\u001b[0;34m,\u001b[0m \u001b[0mend_i\u001b[0m\u001b[0;34m)\u001b[0m\u001b[0;34m\u001b[0m\u001b[0;34m\u001b[0m\u001b[0m\n\u001b[0m\u001b[1;32m    329\u001b[0m \u001b[0;34m\u001b[0m\u001b[0m\n\u001b[1;32m    330\u001b[0m     \u001b[0;32mdef\u001b[0m \u001b[0m_save_chunk\u001b[0m\u001b[0;34m(\u001b[0m\u001b[0mself\u001b[0m\u001b[0;34m,\u001b[0m \u001b[0mstart_i\u001b[0m\u001b[0;34m:\u001b[0m \u001b[0mint\u001b[0m\u001b[0;34m,\u001b[0m \u001b[0mend_i\u001b[0m\u001b[0;34m:\u001b[0m \u001b[0mint\u001b[0m\u001b[0;34m)\u001b[0m \u001b[0;34m->\u001b[0m \u001b[0;32mNone\u001b[0m\u001b[0;34m:\u001b[0m\u001b[0;34m\u001b[0m\u001b[0;34m\u001b[0m\u001b[0m\n",
      "\u001b[0;32m/opt/anaconda3/lib/python3.8/site-packages/pandas/io/formats/csvs.py\u001b[0m in \u001b[0;36m_save_chunk\u001b[0;34m(self, start_i, end_i)\u001b[0m\n\u001b[1;32m    339\u001b[0m         \u001b[0;32mfor\u001b[0m \u001b[0mi\u001b[0m \u001b[0;32min\u001b[0m \u001b[0mrange\u001b[0m\u001b[0;34m(\u001b[0m\u001b[0mlen\u001b[0m\u001b[0;34m(\u001b[0m\u001b[0mblocks\u001b[0m\u001b[0;34m)\u001b[0m\u001b[0;34m)\u001b[0m\u001b[0;34m:\u001b[0m\u001b[0;34m\u001b[0m\u001b[0;34m\u001b[0m\u001b[0m\n\u001b[1;32m    340\u001b[0m             \u001b[0mb\u001b[0m \u001b[0;34m=\u001b[0m \u001b[0mblocks\u001b[0m\u001b[0;34m[\u001b[0m\u001b[0mi\u001b[0m\u001b[0;34m]\u001b[0m\u001b[0;34m\u001b[0m\u001b[0;34m\u001b[0m\u001b[0m\n\u001b[0;32m--> 341\u001b[0;31m             d = b.to_native_types(\n\u001b[0m\u001b[1;32m    342\u001b[0m                 \u001b[0mna_rep\u001b[0m\u001b[0;34m=\u001b[0m\u001b[0mself\u001b[0m\u001b[0;34m.\u001b[0m\u001b[0mna_rep\u001b[0m\u001b[0;34m,\u001b[0m\u001b[0;34m\u001b[0m\u001b[0;34m\u001b[0m\u001b[0m\n\u001b[1;32m    343\u001b[0m                 \u001b[0mfloat_format\u001b[0m\u001b[0;34m=\u001b[0m\u001b[0mself\u001b[0m\u001b[0;34m.\u001b[0m\u001b[0mfloat_format\u001b[0m\u001b[0;34m,\u001b[0m\u001b[0;34m\u001b[0m\u001b[0;34m\u001b[0m\u001b[0m\n",
      "\u001b[0;32m/opt/anaconda3/lib/python3.8/site-packages/pandas/core/internals/blocks.py\u001b[0m in \u001b[0;36mto_native_types\u001b[0;34m(self, na_rep, date_format, **kwargs)\u001b[0m\n\u001b[1;32m   2124\u001b[0m         \u001b[0mdta\u001b[0m \u001b[0;34m=\u001b[0m \u001b[0mself\u001b[0m\u001b[0;34m.\u001b[0m\u001b[0marray_values\u001b[0m\u001b[0;34m(\u001b[0m\u001b[0;34m)\u001b[0m\u001b[0;34m\u001b[0m\u001b[0;34m\u001b[0m\u001b[0m\n\u001b[1;32m   2125\u001b[0m \u001b[0;34m\u001b[0m\u001b[0m\n\u001b[0;32m-> 2126\u001b[0;31m         result = dta._format_native_types(\n\u001b[0m\u001b[1;32m   2127\u001b[0m             \u001b[0mna_rep\u001b[0m\u001b[0;34m=\u001b[0m\u001b[0mna_rep\u001b[0m\u001b[0;34m,\u001b[0m \u001b[0mdate_format\u001b[0m\u001b[0;34m=\u001b[0m\u001b[0mdate_format\u001b[0m\u001b[0;34m,\u001b[0m \u001b[0;34m**\u001b[0m\u001b[0mkwargs\u001b[0m\u001b[0;34m\u001b[0m\u001b[0;34m\u001b[0m\u001b[0m\n\u001b[1;32m   2128\u001b[0m         )\n",
      "\u001b[0;32m/opt/anaconda3/lib/python3.8/site-packages/pandas/core/arrays/datetimes.py\u001b[0m in \u001b[0;36m_format_native_types\u001b[0;34m(self, na_rep, date_format, **kwargs)\u001b[0m\n\u001b[1;32m    605\u001b[0m         \u001b[0;32mfrom\u001b[0m \u001b[0mpandas\u001b[0m\u001b[0;34m.\u001b[0m\u001b[0mio\u001b[0m\u001b[0;34m.\u001b[0m\u001b[0mformats\u001b[0m\u001b[0;34m.\u001b[0m\u001b[0mformat\u001b[0m \u001b[0;32mimport\u001b[0m \u001b[0m_get_format_datetime64_from_values\u001b[0m\u001b[0;34m\u001b[0m\u001b[0;34m\u001b[0m\u001b[0m\n\u001b[1;32m    606\u001b[0m \u001b[0;34m\u001b[0m\u001b[0m\n\u001b[0;32m--> 607\u001b[0;31m         \u001b[0mfmt\u001b[0m \u001b[0;34m=\u001b[0m \u001b[0m_get_format_datetime64_from_values\u001b[0m\u001b[0;34m(\u001b[0m\u001b[0mself\u001b[0m\u001b[0;34m,\u001b[0m \u001b[0mdate_format\u001b[0m\u001b[0;34m)\u001b[0m\u001b[0;34m\u001b[0m\u001b[0;34m\u001b[0m\u001b[0m\n\u001b[0m\u001b[1;32m    608\u001b[0m \u001b[0;34m\u001b[0m\u001b[0m\n\u001b[1;32m    609\u001b[0m         return tslib.format_array_from_datetime(\n",
      "\u001b[0;32m/opt/anaconda3/lib/python3.8/site-packages/pandas/io/formats/format.py\u001b[0m in \u001b[0;36m_get_format_datetime64_from_values\u001b[0;34m(values, date_format)\u001b[0m\n\u001b[1;32m   1644\u001b[0m         \u001b[0mvalues\u001b[0m \u001b[0;34m=\u001b[0m \u001b[0mvalues\u001b[0m\u001b[0;34m.\u001b[0m\u001b[0mravel\u001b[0m\u001b[0;34m(\u001b[0m\u001b[0;34m)\u001b[0m\u001b[0;34m\u001b[0m\u001b[0;34m\u001b[0m\u001b[0m\n\u001b[1;32m   1645\u001b[0m \u001b[0;34m\u001b[0m\u001b[0m\n\u001b[0;32m-> 1646\u001b[0;31m     \u001b[0mis_dates_only\u001b[0m \u001b[0;34m=\u001b[0m \u001b[0m_is_dates_only\u001b[0m\u001b[0;34m(\u001b[0m\u001b[0mvalues\u001b[0m\u001b[0;34m)\u001b[0m\u001b[0;34m\u001b[0m\u001b[0;34m\u001b[0m\u001b[0m\n\u001b[0m\u001b[1;32m   1647\u001b[0m     \u001b[0;32mif\u001b[0m \u001b[0mis_dates_only\u001b[0m\u001b[0;34m:\u001b[0m\u001b[0;34m\u001b[0m\u001b[0;34m\u001b[0m\u001b[0m\n\u001b[1;32m   1648\u001b[0m         \u001b[0;32mreturn\u001b[0m \u001b[0mdate_format\u001b[0m \u001b[0;32mor\u001b[0m \u001b[0;34m\"%Y-%m-%d\"\u001b[0m\u001b[0;34m\u001b[0m\u001b[0;34m\u001b[0m\u001b[0m\n",
      "\u001b[0;32m/opt/anaconda3/lib/python3.8/site-packages/pandas/io/formats/format.py\u001b[0m in \u001b[0;36m_is_dates_only\u001b[0;34m(values)\u001b[0m\n\u001b[1;32m   1578\u001b[0m     \u001b[0mvalues\u001b[0m \u001b[0;34m=\u001b[0m \u001b[0mvalues\u001b[0m\u001b[0;34m.\u001b[0m\u001b[0mravel\u001b[0m\u001b[0;34m(\u001b[0m\u001b[0;34m)\u001b[0m\u001b[0;34m\u001b[0m\u001b[0;34m\u001b[0m\u001b[0m\n\u001b[1;32m   1579\u001b[0m \u001b[0;34m\u001b[0m\u001b[0m\n\u001b[0;32m-> 1580\u001b[0;31m     \u001b[0mvalues\u001b[0m \u001b[0;34m=\u001b[0m \u001b[0mDatetimeIndex\u001b[0m\u001b[0;34m(\u001b[0m\u001b[0mvalues\u001b[0m\u001b[0;34m)\u001b[0m\u001b[0;34m\u001b[0m\u001b[0;34m\u001b[0m\u001b[0m\n\u001b[0m\u001b[1;32m   1581\u001b[0m     \u001b[0;32mif\u001b[0m \u001b[0mvalues\u001b[0m\u001b[0;34m.\u001b[0m\u001b[0mtz\u001b[0m \u001b[0;32mis\u001b[0m \u001b[0;32mnot\u001b[0m \u001b[0;32mNone\u001b[0m\u001b[0;34m:\u001b[0m\u001b[0;34m\u001b[0m\u001b[0;34m\u001b[0m\u001b[0m\n\u001b[1;32m   1582\u001b[0m         \u001b[0;32mreturn\u001b[0m \u001b[0;32mFalse\u001b[0m\u001b[0;34m\u001b[0m\u001b[0;34m\u001b[0m\u001b[0m\n",
      "\u001b[0;32m/opt/anaconda3/lib/python3.8/site-packages/pandas/core/indexes/datetimes.py\u001b[0m in \u001b[0;36m__new__\u001b[0;34m(cls, data, freq, tz, normalize, closed, ambiguous, dayfirst, yearfirst, dtype, copy, name)\u001b[0m\n\u001b[1;32m    269\u001b[0m         \u001b[0mname\u001b[0m \u001b[0;34m=\u001b[0m \u001b[0mmaybe_extract_name\u001b[0m\u001b[0;34m(\u001b[0m\u001b[0mname\u001b[0m\u001b[0;34m,\u001b[0m \u001b[0mdata\u001b[0m\u001b[0;34m,\u001b[0m \u001b[0mcls\u001b[0m\u001b[0;34m)\u001b[0m\u001b[0;34m\u001b[0m\u001b[0;34m\u001b[0m\u001b[0m\n\u001b[1;32m    270\u001b[0m \u001b[0;34m\u001b[0m\u001b[0m\n\u001b[0;32m--> 271\u001b[0;31m         dtarr = DatetimeArray._from_sequence(\n\u001b[0m\u001b[1;32m    272\u001b[0m             \u001b[0mdata\u001b[0m\u001b[0;34m,\u001b[0m\u001b[0;34m\u001b[0m\u001b[0;34m\u001b[0m\u001b[0m\n\u001b[1;32m    273\u001b[0m             \u001b[0mdtype\u001b[0m\u001b[0;34m=\u001b[0m\u001b[0mdtype\u001b[0m\u001b[0;34m,\u001b[0m\u001b[0;34m\u001b[0m\u001b[0;34m\u001b[0m\u001b[0m\n",
      "\u001b[0;32m/opt/anaconda3/lib/python3.8/site-packages/pandas/core/arrays/datetimes.py\u001b[0m in \u001b[0;36m_from_sequence\u001b[0;34m(cls, data, dtype, copy, tz, freq, dayfirst, yearfirst, ambiguous)\u001b[0m\n\u001b[1;32m    314\u001b[0m         \u001b[0mfreq\u001b[0m\u001b[0;34m,\u001b[0m \u001b[0mfreq_infer\u001b[0m \u001b[0;34m=\u001b[0m \u001b[0mdtl\u001b[0m\u001b[0;34m.\u001b[0m\u001b[0mmaybe_infer_freq\u001b[0m\u001b[0;34m(\u001b[0m\u001b[0mfreq\u001b[0m\u001b[0;34m)\u001b[0m\u001b[0;34m\u001b[0m\u001b[0;34m\u001b[0m\u001b[0m\n\u001b[1;32m    315\u001b[0m \u001b[0;34m\u001b[0m\u001b[0m\n\u001b[0;32m--> 316\u001b[0;31m         subarr, tz, inferred_freq = sequence_to_dt64ns(\n\u001b[0m\u001b[1;32m    317\u001b[0m             \u001b[0mdata\u001b[0m\u001b[0;34m,\u001b[0m\u001b[0;34m\u001b[0m\u001b[0;34m\u001b[0m\u001b[0m\n\u001b[1;32m    318\u001b[0m             \u001b[0mdtype\u001b[0m\u001b[0;34m=\u001b[0m\u001b[0mdtype\u001b[0m\u001b[0;34m,\u001b[0m\u001b[0;34m\u001b[0m\u001b[0;34m\u001b[0m\u001b[0m\n",
      "\u001b[0;32m/opt/anaconda3/lib/python3.8/site-packages/pandas/core/arrays/datetimes.py\u001b[0m in \u001b[0;36msequence_to_dt64ns\u001b[0;34m(data, dtype, copy, tz, dayfirst, yearfirst, ambiguous)\u001b[0m\n\u001b[1;32m   1992\u001b[0m \u001b[0;34m\u001b[0m\u001b[0m\n\u001b[1;32m   1993\u001b[0m     \u001b[0;32massert\u001b[0m \u001b[0misinstance\u001b[0m\u001b[0;34m(\u001b[0m\u001b[0mresult\u001b[0m\u001b[0;34m,\u001b[0m \u001b[0mnp\u001b[0m\u001b[0;34m.\u001b[0m\u001b[0mndarray\u001b[0m\u001b[0;34m)\u001b[0m\u001b[0;34m,\u001b[0m \u001b[0mtype\u001b[0m\u001b[0;34m(\u001b[0m\u001b[0mresult\u001b[0m\u001b[0;34m)\u001b[0m\u001b[0;34m\u001b[0m\u001b[0;34m\u001b[0m\u001b[0m\n\u001b[0;32m-> 1994\u001b[0;31m     \u001b[0;32massert\u001b[0m \u001b[0mresult\u001b[0m\u001b[0;34m.\u001b[0m\u001b[0mdtype\u001b[0m \u001b[0;34m==\u001b[0m \u001b[0;34m\"M8[ns]\"\u001b[0m\u001b[0;34m,\u001b[0m \u001b[0mresult\u001b[0m\u001b[0;34m.\u001b[0m\u001b[0mdtype\u001b[0m\u001b[0;34m\u001b[0m\u001b[0;34m\u001b[0m\u001b[0m\n\u001b[0m\u001b[1;32m   1995\u001b[0m \u001b[0;34m\u001b[0m\u001b[0m\n\u001b[1;32m   1996\u001b[0m     \u001b[0;31m# We have to call this again after possibly inferring a tz above\u001b[0m\u001b[0;34m\u001b[0m\u001b[0;34m\u001b[0m\u001b[0;34m\u001b[0m\u001b[0m\n",
      "\u001b[0;31mKeyboardInterrupt\u001b[0m: "
     ]
    }
   ],
   "source": [
    "landsat.to_csv(\"sample_df\")"
   ]
  },
  {
   "cell_type": "code",
   "execution_count": null,
   "metadata": {},
   "outputs": [],
   "source": []
  }
 ],
 "metadata": {
  "kernelspec": {
   "display_name": "Python 3",
   "language": "python",
   "name": "python3"
  },
  "language_info": {
   "codemirror_mode": {
    "name": "ipython",
    "version": 3
   },
   "file_extension": ".py",
   "mimetype": "text/x-python",
   "name": "python",
   "nbconvert_exporter": "python",
   "pygments_lexer": "ipython3",
   "version": "3.8.5"
  }
 },
 "nbformat": 4,
 "nbformat_minor": 2
}
